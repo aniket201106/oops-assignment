{
  "nbformat": 4,
  "nbformat_minor": 0,
  "metadata": {
    "colab": {
      "provenance": []
    },
    "kernelspec": {
      "name": "python3",
      "display_name": "Python 3"
    },
    "language_info": {
      "name": "python"
    }
  },
  "cells": [
    {
      "cell_type": "markdown",
      "source": [
        "oops **assignment**"
      ],
      "metadata": {
        "id": "EHtDHdQAMPYY"
      }
    },
    {
      "cell_type": "code",
      "execution_count": null,
      "metadata": {
        "id": "3F5lMly7MOSH"
      },
      "outputs": [],
      "source": [
        "What is Object-Oriented Programming (OOP)?\n",
        "\n",
        "  OOP is a way of writing programs using objects, like real-life things. It helps us organize code better using classes, objects, inheritance, and more.\n"
      ]
    },
    {
      "cell_type": "markdown",
      "source": [
        "What is a class in OOP?\n",
        "\n",
        "  A class is like a design or plan for making objects. For example, a \"Car\" class can be used to make many car objects.\n",
        "\n",
        "What is an object in OOP?\n",
        "\n",
        "  An object is something made using a class. It has data and actions. Example: a red car made from the Car class.\n",
        "\n",
        "What is the difference between abstraction and encapsulation?\n",
        "\n",
        "  Abstraction: Hides extra details, shows only what's needed.\n",
        "\n",
        "  Encapsulation: Keeps data safe inside a class (like locking it in a box).\n",
        "\n",
        "What are dunder methods in Python?\n",
        "\n",
        "  \"Dunder\" means double underscores, like init or str. These are special methods used by Python to do important things automatically.\n",
        "\n",
        "Explain the concept of inheritance in OOP.\n",
        "\n",
        "  Inheritance means a class can take features from another class. Like a \"Dog\" class can inherit from an \"Animal\" class.\n",
        "\n",
        "What is polymorphism in OOP.\n",
        "\n",
        "  It means one function can work in many ways. Example: speak() can mean bark for a dog, and meow for a cat.\n",
        "\n",
        "How is encapsulation achieved in Python?\n",
        "\n",
        "  We can hide data using (double underscore) and use property to control access.\n",
        "\n",
        "What is a constructor in Python?\n",
        "\n",
        "  It runs automatically when you make an object and sets values.\n",
        "\n",
        "What are class and static methods in Python?\n",
        "\n",
        "  Class method: Works with the class. Uses classmethod.\n",
        "\n",
        "  Static method: A normal function inside a class. Uses staticmethod.\n",
        "\n",
        "What is method overloading in Python?\n",
        "\n",
        "  Same method name, but with different inputs. Python doesn’t support it directly but we can use *args to do it.\n",
        "\n",
        "What is method overriding in OOP?\n",
        "\n",
        "  When a child class changes a method from the parent class with the same name.\n",
        "\n",
        "What is a property decorator in Python?\n",
        "\n",
        "  @property lets you call a method like it’s a variable, and helps in data protection.\n",
        "\n",
        "Why is polymorphism important in OOP?\n",
        "\n",
        "  It helps us write flexible and reusable code that works with many object types.\n",
        "\n",
        "What is an abstract class in Python?\n",
        "\n",
        "  It’s a class that can’t be used directly. It’s made for other classes to build upon. Uses ABC and abstractmethod.\n",
        "\n",
        "What are the advantages of OOP.\n",
        "\n",
        "  Easy to reuse code\n",
        "\n",
        "  Keeps code safe\n",
        "\n",
        "  Easy to manage and update\n",
        "\n",
        "  Works well with real-life models\n",
        "\n",
        "What is the difference between a class variable and an instance variable?\n",
        "\n",
        "  Class variable: Same for all objects.\n",
        "\n",
        "  Instance variable: Different for each object.\n",
        "\n",
        " What is multiple inheritance in Python?\n",
        "\n",
        "  A class can inherit from two or more classes. Example: a class \"C\" can take features from class \"A\" and class \"B\".\n",
        "\n",
        "Explain the purpose of ‘’__str__’ and ‘__repr__’ ‘ methods in Python?\n",
        "\n",
        "  __str__: What you see (user-friendly).\n",
        "\n",
        "__repr__: What Python sees (developer-friendly)\n",
        "\n",
        "\n",
        "What is the significance of the ‘super()’ function in Python?\n",
        "\n",
        "  super() is used to call the parent class method when you are in the child class.\n",
        "\n",
        "What is the significance of the __del__ method in Python?\n",
        "\n",
        "  It’s called when the object is about to be deleted or destroyed. Like cleaning up before going.\n",
        "\n",
        "What is the difference between @staticmethod and @classmethod in Python?\n",
        "\n",
        "  @staticmethod: No access to class or object, just a simple method.\n",
        "\n",
        "  @classmethod: Can access the class and change its data.\n",
        "\n",
        "How does polymorphism work in Python with inheritance?\n",
        "\n",
        "  One function behaves differently for different classes (same method name, different behavior).\n",
        "\n",
        "What is method chaining in Python OOP?\n",
        "\n",
        "  Calling multiple methods one after another using a dot .\n",
        "\n",
        "What is the purpose of the __call__ method in Python?\n",
        "\n",
        "  Makes an object callable like a function.\n"
      ],
      "metadata": {
        "id": "onlJcZ4WNT--"
      }
    },
    {
      "cell_type": "code",
      "source": [
        "#PRACTICAL QUESTIONS\n",
        "# Create a parent class Animal with a method speak() that prints a generic message. Create a child class Dogthat overrides the speak() method to print \"Bark!\".\n",
        "class Animal:\n",
        "    def speak(self):\n",
        "        print(\"This is a generic animal sound\")\n",
        "\n",
        "class Dog(Animal):\n",
        "    def speak(self):\n",
        "        print(\"Bark!\")\n",
        "\n",
        "dog = Dog()\n",
        "dog.speak()\n"
      ],
      "metadata": {
        "colab": {
          "base_uri": "https://localhost:8080/"
        },
        "id": "JojSHEUzVFGi",
        "outputId": "287d9ea3-b3d1-4973-ea44-7f28aa57f72c"
      },
      "execution_count": 2,
      "outputs": [
        {
          "output_type": "stream",
          "name": "stdout",
          "text": [
            "Bark!\n"
          ]
        }
      ]
    },
    {
      "cell_type": "code",
      "source": [
        "# Write a program to create an abstract class Shape with a method area(). Derive classes Circle and Rectangle from it and implement the area() method in both.\n",
        "\n"
      ],
      "metadata": {
        "id": "_2DNV-msVd88"
      },
      "execution_count": 4,
      "outputs": []
    },
    {
      "cell_type": "code",
      "source": [
        "# Implement a multi-level inheritance scenario where a class Vehicle has an attribute type. Derive a class Car and further derive a class ElectricCar that adds a battery attribute.\n"
      ],
      "metadata": {
        "id": "olb1EOnSV4jP"
      },
      "execution_count": 5,
      "outputs": []
    },
    {
      "cell_type": "code",
      "source": [
        "# Demonstrate polymorphism by creating a base class Bird with a method fly(). Create two derived classes Sparrow and Penguin that override the fly() method.\n",
        "class Bird:\n",
        "    def fly(self):\n",
        "        print(\"Some birds can fly\")\n",
        "\n",
        "class Sparrow(Bird):\n",
        "    def fly(self):\n",
        "        print(\"Sparrow flies high\")\n",
        "\n",
        "class Penguin(Bird):\n",
        "    def fly(self):\n",
        "        print(\"Penguin can't fly\")\n",
        "\n",
        "for bird in (Sparrow(), Penguin()):\n",
        "    bird.fly()\n",
        "\n"
      ],
      "metadata": {
        "colab": {
          "base_uri": "https://localhost:8080/"
        },
        "id": "FmjiaSXTWQB-",
        "outputId": "3be39765-d051-4c99-8781-0fc4d41c9a50"
      },
      "execution_count": 6,
      "outputs": [
        {
          "output_type": "stream",
          "name": "stdout",
          "text": [
            "Sparrow flies high\n",
            "Penguin can't fly\n"
          ]
        }
      ]
    },
    {
      "cell_type": "code",
      "source": [
        "# Write a program to demonstrate encapsulation by creating a class BankAccount with private attributes balance and methods to deposit, withdraw, and check balance.\n",
        "class BankAccount:\n",
        "    def __init__(self):\n",
        "        self.__balance = 0\n",
        "\n",
        "    def deposit(self, amount):\n",
        "        self.__balance += amount\n",
        "\n",
        "    def withdraw(self, amount):\n",
        "        if amount <= self.__balance:\n",
        "            self.__balance -= amount\n",
        "        else:\n",
        "            print(\"Insufficient balance\")\n",
        "\n",
        "    def check_balance(self):\n",
        "        return self.__balance\n",
        "\n",
        "account = BankAccount()\n",
        "account.deposit(1000)\n",
        "account.withdraw(500)\n",
        "print(account.check_balance())\n"
      ],
      "metadata": {
        "colab": {
          "base_uri": "https://localhost:8080/"
        },
        "id": "99nZSabiWXzg",
        "outputId": "180f1099-8fca-4148-c825-85ca6ca50288"
      },
      "execution_count": 7,
      "outputs": [
        {
          "output_type": "stream",
          "name": "stdout",
          "text": [
            "500\n"
          ]
        }
      ]
    },
    {
      "cell_type": "code",
      "source": [
        "#Demonstrate runtime polymorphism using a method play() in a base class Instrument. Derive classes Guitar and Piano that implement their own version of play().\n",
        "class Instrument:\n",
        "    def play(self):\n",
        "        print(\"Playing instrument\")\n",
        "\n",
        "class Guitar(Instrument):\n",
        "    def play(self):\n",
        "        print(\"Playing guitar\")\n",
        "\n",
        "class Piano(Instrument):\n",
        "    def play(self):\n",
        "        print(\"Playing piano\")\n",
        "\n",
        "for instrument in (Guitar(), Piano()):\n",
        "    instrument.play()\n"
      ],
      "metadata": {
        "colab": {
          "base_uri": "https://localhost:8080/"
        },
        "id": "CMi4iRttWkGA",
        "outputId": "7f9acf8d-906b-4084-904d-837449b92926"
      },
      "execution_count": 8,
      "outputs": [
        {
          "output_type": "stream",
          "name": "stdout",
          "text": [
            "Playing guitar\n",
            "Playing piano\n"
          ]
        }
      ]
    },
    {
      "cell_type": "code",
      "source": [
        "# Create a class MathOperations with a class method add_numbers() to add two numbers and a static method subtract_numbers() to subtract two numbers.\n",
        "class MathOperations:\n",
        "    @classmethod\n",
        "    def add_numbers(cls, a, b):\n",
        "        return a + b\n",
        "\n",
        "    @staticmethod\n",
        "    def subtract_numbers(a, b):\n",
        "        return a - b\n",
        "\n",
        "print(MathOperations.add_numbers(5, 3))\n",
        "print(MathOperations.subtract_numbers(5, 3))\n"
      ],
      "metadata": {
        "colab": {
          "base_uri": "https://localhost:8080/"
        },
        "id": "19S042WoWu6h",
        "outputId": "2d1bb188-7953-476b-fb84-03fcf70d0013"
      },
      "execution_count": 9,
      "outputs": [
        {
          "output_type": "stream",
          "name": "stdout",
          "text": [
            "8\n",
            "2\n"
          ]
        }
      ]
    },
    {
      "cell_type": "code",
      "source": [
        "# Implement a class Person with a class method to count the total number of persons created.\n",
        "class Person:\n",
        "    count = 0\n",
        "    def __init__(self):\n",
        "        Person.count += 1\n",
        "\n",
        "    @classmethod\n",
        "    def get_count(cls):\n",
        "        return cls.count\n",
        "\n",
        "p1 = Person()\n",
        "p2 = Person()\n",
        "print(Person.get_count())\n"
      ],
      "metadata": {
        "colab": {
          "base_uri": "https://localhost:8080/"
        },
        "id": "vC2QvkxIW6Kq",
        "outputId": "20df0cd5-5e31-42dd-bd0c-38f26c31de77"
      },
      "execution_count": 10,
      "outputs": [
        {
          "output_type": "stream",
          "name": "stdout",
          "text": [
            "2\n"
          ]
        }
      ]
    },
    {
      "cell_type": "code",
      "source": [
        "# Write a class Fraction with attributes numerator and denominator. Override the str method to display the fraction as \"numerator/denominator\".\n",
        "class Fraction:\n",
        "    def __init__(self, numerator, denominator):\n",
        "        self.numerator = numerator\n",
        "        self.denominator = denominator\n",
        "\n",
        "    def __str__(self):\n",
        "        return f\"{self.numerator}/{self.denominator}\"\n",
        "\n",
        "f = Fraction(3, 4)\n",
        "print(f)\n"
      ],
      "metadata": {
        "colab": {
          "base_uri": "https://localhost:8080/"
        },
        "id": "O-ZRB6S0XAQU",
        "outputId": "b0d0764b-1191-43bc-db65-328f3ce27001"
      },
      "execution_count": 11,
      "outputs": [
        {
          "output_type": "stream",
          "name": "stdout",
          "text": [
            "3/4\n"
          ]
        }
      ]
    },
    {
      "cell_type": "code",
      "source": [
        "#Demonstrate operator overloading by creating a class Vector and overriding the add method to add two vectors.\n",
        "class Vector:\n",
        "    def __init__(self, x, y):\n",
        "        self.x = x\n",
        "        self.y = y\n",
        "\n",
        "    def __add__(self, other):\n",
        "        return Vector(self.x + other.x, self.y + other.y)\n",
        "\n",
        "    def __str__(self):\n",
        "        return f\"Vector({self.x}, {self.y})\"\n",
        "\n",
        "v1 = Vector(1, 2)\n",
        "v2 = Vector(3, 4)\n",
        "print(v1 + v2)\n"
      ],
      "metadata": {
        "colab": {
          "base_uri": "https://localhost:8080/"
        },
        "id": "dTYF2nuYXKRZ",
        "outputId": "666774e5-01f1-482b-d625-3cba79f87757"
      },
      "execution_count": 12,
      "outputs": [
        {
          "output_type": "stream",
          "name": "stdout",
          "text": [
            "Vector(4, 6)\n"
          ]
        }
      ]
    },
    {
      "cell_type": "code",
      "source": [
        "# Create a class Person with attributes name and age. Add a method greet() that prints \"Hello, my name is {name} and I am {age} years old.\"\n",
        "class Person:\n",
        "    def __init__(self, name, age):\n",
        "        self.name = name\n",
        "        self.age = age\n",
        "\n",
        "    def greet(self):\n",
        "        print(f\"Hello, my name is {self.name} and I am {self.age} years old.\")\n",
        "\n",
        "p = Person(\"Aniket\", 18)\n",
        "p.greet()\n"
      ],
      "metadata": {
        "colab": {
          "base_uri": "https://localhost:8080/"
        },
        "id": "EZT8BgpEXWXe",
        "outputId": "b0ade1c3-2d9d-4919-f4a9-2b28433654c9"
      },
      "execution_count": 14,
      "outputs": [
        {
          "output_type": "stream",
          "name": "stdout",
          "text": [
            "Hello, my name is Aniket and I am 18 years old.\n"
          ]
        }
      ]
    },
    {
      "cell_type": "code",
      "source": [
        "#Implement a class Student with attributes name and grades. Create a method average_grade() to compute the average of the grades.\n",
        "class Student:\n",
        "    def __init__(self, name, grades):\n",
        "        self.name = name\n",
        "        self.grades = grades\n",
        "\n",
        "    def average_grade(self):\n",
        "        return sum(self.grades) / len(self.grades)\n",
        "\n",
        "s = Student(\"Aniket\", [85, 90, 78])\n",
        "print(s.average_grade())\n"
      ],
      "metadata": {
        "colab": {
          "base_uri": "https://localhost:8080/"
        },
        "id": "QjYgUhgtYDX_",
        "outputId": "452e6d87-189c-4ee1-c4a6-9aa04004ea52"
      },
      "execution_count": 15,
      "outputs": [
        {
          "output_type": "stream",
          "name": "stdout",
          "text": [
            "84.33333333333333\n"
          ]
        }
      ]
    },
    {
      "cell_type": "code",
      "source": [
        "#Create a class Rectangle with methods set_dimensions() to set the dimensions and area() to calculate the area.\n",
        "class Rectangle:\n",
        "    def set_dimensions(self, length, width):\n",
        "        self.length = length\n",
        "        self.width = width\n",
        "\n",
        "    def area(self):\n",
        "        return self.length * self.width\n",
        "\n",
        "r = Rectangle()\n",
        "r.set_dimensions(5, 3)\n",
        "print(r.area())\n",
        "\n",
        "\n",
        "\n"
      ],
      "metadata": {
        "colab": {
          "base_uri": "https://localhost:8080/"
        },
        "id": "QTw7ctCYYRRS",
        "outputId": "8f1acdcb-5068-4d42-e387-0e7d523e3635"
      },
      "execution_count": 16,
      "outputs": [
        {
          "output_type": "stream",
          "name": "stdout",
          "text": [
            "15\n"
          ]
        }
      ]
    },
    {
      "cell_type": "code",
      "source": [
        "# Create a class Employee with a method calculate_salary() that computes the salary based on hours worked and hourly rate. Create a derived class Manager that adds a bonus to the salary\n"
      ],
      "metadata": {
        "id": "Wi3i9zTYYftD"
      },
      "execution_count": 17,
      "outputs": []
    },
    {
      "cell_type": "code",
      "source": [
        "#Create a class Product with attributes name, price, and quantity. Implement a method total_price() that calculates the total price of the product.\n",
        "class Product:\n",
        "    def __init__(self, name, price, quantity):\n",
        "        self.name = name\n",
        "        self.price = price\n",
        "        self.quantity = quantity\n",
        "\n",
        "    def total_price(self):\n",
        "        return self.price * self.quantity\n",
        "\n",
        "p = Product(\"Pen\", 10, 5)\n",
        "print(p.total_price())\n"
      ],
      "metadata": {
        "colab": {
          "base_uri": "https://localhost:8080/"
        },
        "id": "1_EloUr-YtTN",
        "outputId": "90678b9b-8e9d-498f-a2b6-56833683501a"
      },
      "execution_count": 18,
      "outputs": [
        {
          "output_type": "stream",
          "name": "stdout",
          "text": [
            "50\n"
          ]
        }
      ]
    },
    {
      "cell_type": "code",
      "source": [
        "# Create a class Animal with an abstract method sound(). Create two derived classes Cow and Sheep that implement the sound() method.\n",
        "from abc import ABC, abstractmethod\n",
        "\n",
        "class Animal(ABC):\n",
        "    @abstractmethod\n",
        "    def sound(self):\n",
        "        pass\n",
        "\n",
        "class Cow(Animal):\n",
        "    def sound(self):\n",
        "        print(\"Moo\")\n",
        "\n",
        "class Sheep(Animal):\n",
        "    def sound(self):\n",
        "        print(\"Baa\")\n",
        "\n",
        "c = Cow()\n",
        "s = Sheep()\n",
        "c.sound()\n",
        "s.sound()\n"
      ],
      "metadata": {
        "colab": {
          "base_uri": "https://localhost:8080/"
        },
        "id": "EbP_Xw5BY5i_",
        "outputId": "1d784c39-cc4a-4b31-8680-946cbbc12ee7"
      },
      "execution_count": 19,
      "outputs": [
        {
          "output_type": "stream",
          "name": "stdout",
          "text": [
            "Moo\n",
            "Baa\n"
          ]
        }
      ]
    },
    {
      "cell_type": "code",
      "source": [
        "#Create a class Book with attributes title, author, and year_published. Add a method get_book_info() that returns a formatted string with the book's details.\n",
        "class Book:\n",
        "    def __init__(self, title, author, year_published):\n",
        "        self.title = title\n",
        "        self.author = author\n",
        "        self.year_published = year_published\n",
        "\n",
        "    def get_book_info(self):\n",
        "        return f\"'{self.title}' by {self.author}, published in {self.year_published}\"\n",
        "\n",
        "b = Book(\"Python Basics\", \"John Doe\", 2022)\n",
        "print(b.get_book_info())\n"
      ],
      "metadata": {
        "colab": {
          "base_uri": "https://localhost:8080/"
        },
        "id": "6nJM9QyuZKq6",
        "outputId": "a872c192-9f1b-4277-8e2f-c79782e84517"
      },
      "execution_count": 20,
      "outputs": [
        {
          "output_type": "stream",
          "name": "stdout",
          "text": [
            "'Python Basics' by John Doe, published in 2022\n"
          ]
        }
      ]
    },
    {
      "cell_type": "code",
      "source": [
        "# Create a class House with attributes address and price. Create a derived class Mansion that adds an attribute number_of_rooms.\n"
      ],
      "metadata": {
        "id": "kQ3xNNCLZFTZ"
      },
      "execution_count": 21,
      "outputs": []
    },
    {
      "cell_type": "code",
      "source": [],
      "metadata": {
        "id": "fpDtdfwAZiy4"
      },
      "execution_count": null,
      "outputs": []
    }
  ]
}